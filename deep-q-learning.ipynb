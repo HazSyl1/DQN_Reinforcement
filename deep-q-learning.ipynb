{
 "cells": [
  {
   "cell_type": "code",
   "execution_count": 1,
   "id": "bc087e30",
   "metadata": {
    "_cell_guid": "b1076dfc-b9ad-4769-8c92-a6c4dae69d19",
    "_uuid": "8f2839f25d086af736a60e9eeb907d3b93b6e0e5",
    "execution": {
     "iopub.execute_input": "2023-10-13T15:18:46.864436Z",
     "iopub.status.busy": "2023-10-13T15:18:46.864077Z",
     "iopub.status.idle": "2023-10-13T15:19:20.115777Z",
     "shell.execute_reply": "2023-10-13T15:19:20.114735Z"
    },
    "papermill": {
     "duration": 33.261367,
     "end_time": "2023-10-13T15:19:20.118782",
     "exception": false,
     "start_time": "2023-10-13T15:18:46.857415",
     "status": "completed"
    },
    "tags": []
   },
   "outputs": [
    {
     "name": "stdout",
     "output_type": "stream",
     "text": [
      "Collecting gym==0.24.0\r\n",
      "  Downloading gym-0.24.0.tar.gz (694 kB)\r\n",
      "\u001b[2K     \u001b[90m━━━━━━━━━━━━━━━━━━━━━━━━━━━━━━━━━━━━━━\u001b[0m \u001b[32m694.4/694.4 kB\u001b[0m \u001b[31m10.8 MB/s\u001b[0m eta \u001b[36m0:00:00\u001b[0m\r\n",
      "\u001b[?25h  Installing build dependencies ... \u001b[?25l-\b \b\\\b \b|\b \b/\b \bdone\r\n",
      "\u001b[?25h  Getting requirements to build wheel ... \u001b[?25l-\b \bdone\r\n",
      "\u001b[?25h  Preparing metadata (pyproject.toml) ... \u001b[?25l-\b \bdone\r\n",
      "\u001b[?25hRequirement already satisfied: numpy>=1.18.0 in /opt/conda/lib/python3.10/site-packages (from gym==0.24.0) (1.23.5)\r\n",
      "Requirement already satisfied: cloudpickle>=1.2.0 in /opt/conda/lib/python3.10/site-packages (from gym==0.24.0) (2.2.1)\r\n",
      "Requirement already satisfied: gym-notices>=0.0.4 in /opt/conda/lib/python3.10/site-packages (from gym==0.24.0) (0.0.8)\r\n",
      "Building wheels for collected packages: gym\r\n",
      "  Building wheel for gym (pyproject.toml) ... \u001b[?25l-\b \b\\\b \b|\b \bdone\r\n",
      "\u001b[?25h  Created wheel for gym: filename=gym-0.24.0-py3-none-any.whl size=790675 sha256=b46322e7ce9c528c1ad002d6ecaf30d6c753ddc1a80ee8e6eae0d41c2042989c\r\n",
      "  Stored in directory: /root/.cache/pip/wheels/2f/a1/b1/5f4110c8943b36e6cdfcc0e5768481639fa042b3c8357e82cc\r\n",
      "Successfully built gym\r\n",
      "Installing collected packages: gym\r\n",
      "  Attempting uninstall: gym\r\n",
      "    Found existing installation: gym 0.26.2\r\n",
      "    Uninstalling gym-0.26.2:\r\n",
      "      Successfully uninstalled gym-0.26.2\r\n",
      "Successfully installed gym-0.24.0\r\n",
      "Requirement already satisfied: keras in /opt/conda/lib/python3.10/site-packages (2.12.0)\r\n"
     ]
    }
   ],
   "source": [
    "!pip install gym==0.24.0\n",
    "!pip install keras"
   ]
  },
  {
   "cell_type": "code",
   "execution_count": 2,
   "id": "c09bc610",
   "metadata": {
    "execution": {
     "iopub.execute_input": "2023-10-13T15:19:20.133039Z",
     "iopub.status.busy": "2023-10-13T15:19:20.132675Z",
     "iopub.status.idle": "2023-10-13T15:19:30.514087Z",
     "shell.execute_reply": "2023-10-13T15:19:30.512986Z"
    },
    "papermill": {
     "duration": 10.391173,
     "end_time": "2023-10-13T15:19:30.516110",
     "exception": false,
     "start_time": "2023-10-13T15:19:20.124937",
     "status": "completed"
    },
    "tags": []
   },
   "outputs": [
    {
     "name": "stdout",
     "output_type": "stream",
     "text": [
      "Collecting keras-rl2\r\n",
      "  Downloading keras_rl2-1.0.5-py3-none-any.whl (52 kB)\r\n",
      "\u001b[2K     \u001b[90m━━━━━━━━━━━━━━━━━━━━━━━━━━━━━━━━━━━━━━━━\u001b[0m \u001b[32m52.1/52.1 kB\u001b[0m \u001b[31m1.9 MB/s\u001b[0m eta \u001b[36m0:00:00\u001b[0m\r\n",
      "\u001b[?25hRequirement already satisfied: tensorflow in /opt/conda/lib/python3.10/site-packages (from keras-rl2) (2.12.0)\r\n",
      "Requirement already satisfied: absl-py>=1.0.0 in /opt/conda/lib/python3.10/site-packages (from tensorflow->keras-rl2) (1.4.0)\r\n",
      "Requirement already satisfied: astunparse>=1.6.0 in /opt/conda/lib/python3.10/site-packages (from tensorflow->keras-rl2) (1.6.3)\r\n",
      "Requirement already satisfied: flatbuffers>=2.0 in /opt/conda/lib/python3.10/site-packages (from tensorflow->keras-rl2) (23.5.26)\r\n",
      "Requirement already satisfied: gast<=0.4.0,>=0.2.1 in /opt/conda/lib/python3.10/site-packages (from tensorflow->keras-rl2) (0.4.0)\r\n",
      "Requirement already satisfied: google-pasta>=0.1.1 in /opt/conda/lib/python3.10/site-packages (from tensorflow->keras-rl2) (0.2.0)\r\n",
      "Requirement already satisfied: grpcio<2.0,>=1.24.3 in /opt/conda/lib/python3.10/site-packages (from tensorflow->keras-rl2) (1.51.3)\r\n",
      "Requirement already satisfied: h5py>=2.9.0 in /opt/conda/lib/python3.10/site-packages (from tensorflow->keras-rl2) (3.9.0)\r\n",
      "Requirement already satisfied: jax>=0.3.15 in /opt/conda/lib/python3.10/site-packages (from tensorflow->keras-rl2) (0.4.13)\r\n",
      "Requirement already satisfied: keras<2.13,>=2.12.0 in /opt/conda/lib/python3.10/site-packages (from tensorflow->keras-rl2) (2.12.0)\r\n",
      "Requirement already satisfied: libclang>=13.0.0 in /opt/conda/lib/python3.10/site-packages (from tensorflow->keras-rl2) (16.0.0)\r\n",
      "Requirement already satisfied: numpy<1.24,>=1.22 in /opt/conda/lib/python3.10/site-packages (from tensorflow->keras-rl2) (1.23.5)\r\n",
      "Requirement already satisfied: opt-einsum>=2.3.2 in /opt/conda/lib/python3.10/site-packages (from tensorflow->keras-rl2) (3.3.0)\r\n",
      "Requirement already satisfied: packaging in /opt/conda/lib/python3.10/site-packages (from tensorflow->keras-rl2) (21.3)\r\n",
      "Requirement already satisfied: protobuf!=4.21.0,!=4.21.1,!=4.21.2,!=4.21.3,!=4.21.4,!=4.21.5,<5.0.0dev,>=3.20.3 in /opt/conda/lib/python3.10/site-packages (from tensorflow->keras-rl2) (3.20.3)\r\n",
      "Requirement already satisfied: setuptools in /opt/conda/lib/python3.10/site-packages (from tensorflow->keras-rl2) (68.0.0)\r\n",
      "Requirement already satisfied: six>=1.12.0 in /opt/conda/lib/python3.10/site-packages (from tensorflow->keras-rl2) (1.16.0)\r\n",
      "Requirement already satisfied: tensorboard<2.13,>=2.12 in /opt/conda/lib/python3.10/site-packages (from tensorflow->keras-rl2) (2.12.3)\r\n",
      "Requirement already satisfied: tensorflow-estimator<2.13,>=2.12.0 in /opt/conda/lib/python3.10/site-packages (from tensorflow->keras-rl2) (2.12.0)\r\n",
      "Requirement already satisfied: termcolor>=1.1.0 in /opt/conda/lib/python3.10/site-packages (from tensorflow->keras-rl2) (2.3.0)\r\n",
      "Requirement already satisfied: typing-extensions>=3.6.6 in /opt/conda/lib/python3.10/site-packages (from tensorflow->keras-rl2) (4.6.3)\r\n",
      "Requirement already satisfied: wrapt<1.15,>=1.11.0 in /opt/conda/lib/python3.10/site-packages (from tensorflow->keras-rl2) (1.14.1)\r\n",
      "Requirement already satisfied: tensorflow-io-gcs-filesystem>=0.23.1 in /opt/conda/lib/python3.10/site-packages (from tensorflow->keras-rl2) (0.32.0)\r\n",
      "Requirement already satisfied: wheel<1.0,>=0.23.0 in /opt/conda/lib/python3.10/site-packages (from astunparse>=1.6.0->tensorflow->keras-rl2) (0.40.0)\r\n",
      "Requirement already satisfied: ml-dtypes>=0.1.0 in /opt/conda/lib/python3.10/site-packages (from jax>=0.3.15->tensorflow->keras-rl2) (0.2.0)\r\n",
      "Requirement already satisfied: scipy>=1.7 in /opt/conda/lib/python3.10/site-packages (from jax>=0.3.15->tensorflow->keras-rl2) (1.11.2)\r\n",
      "Requirement already satisfied: google-auth<3,>=1.6.3 in /opt/conda/lib/python3.10/site-packages (from tensorboard<2.13,>=2.12->tensorflow->keras-rl2) (2.20.0)\r\n",
      "Requirement already satisfied: google-auth-oauthlib<1.1,>=0.5 in /opt/conda/lib/python3.10/site-packages (from tensorboard<2.13,>=2.12->tensorflow->keras-rl2) (1.0.0)\r\n",
      "Requirement already satisfied: markdown>=2.6.8 in /opt/conda/lib/python3.10/site-packages (from tensorboard<2.13,>=2.12->tensorflow->keras-rl2) (3.4.3)\r\n",
      "Requirement already satisfied: requests<3,>=2.21.0 in /opt/conda/lib/python3.10/site-packages (from tensorboard<2.13,>=2.12->tensorflow->keras-rl2) (2.31.0)\r\n",
      "Requirement already satisfied: tensorboard-data-server<0.8.0,>=0.7.0 in /opt/conda/lib/python3.10/site-packages (from tensorboard<2.13,>=2.12->tensorflow->keras-rl2) (0.7.1)\r\n",
      "Requirement already satisfied: werkzeug>=1.0.1 in /opt/conda/lib/python3.10/site-packages (from tensorboard<2.13,>=2.12->tensorflow->keras-rl2) (2.3.7)\r\n",
      "Requirement already satisfied: pyparsing!=3.0.5,>=2.0.2 in /opt/conda/lib/python3.10/site-packages (from packaging->tensorflow->keras-rl2) (3.0.9)\r\n",
      "Requirement already satisfied: cachetools<6.0,>=2.0.0 in /opt/conda/lib/python3.10/site-packages (from google-auth<3,>=1.6.3->tensorboard<2.13,>=2.12->tensorflow->keras-rl2) (4.2.4)\r\n",
      "Requirement already satisfied: pyasn1-modules>=0.2.1 in /opt/conda/lib/python3.10/site-packages (from google-auth<3,>=1.6.3->tensorboard<2.13,>=2.12->tensorflow->keras-rl2) (0.2.7)\r\n",
      "Requirement already satisfied: rsa<5,>=3.1.4 in /opt/conda/lib/python3.10/site-packages (from google-auth<3,>=1.6.3->tensorboard<2.13,>=2.12->tensorflow->keras-rl2) (4.9)\r\n",
      "Requirement already satisfied: urllib3<2.0 in /opt/conda/lib/python3.10/site-packages (from google-auth<3,>=1.6.3->tensorboard<2.13,>=2.12->tensorflow->keras-rl2) (1.26.15)\r\n",
      "Requirement already satisfied: requests-oauthlib>=0.7.0 in /opt/conda/lib/python3.10/site-packages (from google-auth-oauthlib<1.1,>=0.5->tensorboard<2.13,>=2.12->tensorflow->keras-rl2) (1.3.1)\r\n",
      "Requirement already satisfied: charset-normalizer<4,>=2 in /opt/conda/lib/python3.10/site-packages (from requests<3,>=2.21.0->tensorboard<2.13,>=2.12->tensorflow->keras-rl2) (3.1.0)\r\n",
      "Requirement already satisfied: idna<4,>=2.5 in /opt/conda/lib/python3.10/site-packages (from requests<3,>=2.21.0->tensorboard<2.13,>=2.12->tensorflow->keras-rl2) (3.4)\r\n",
      "Requirement already satisfied: certifi>=2017.4.17 in /opt/conda/lib/python3.10/site-packages (from requests<3,>=2.21.0->tensorboard<2.13,>=2.12->tensorflow->keras-rl2) (2023.7.22)\r\n",
      "Requirement already satisfied: MarkupSafe>=2.1.1 in /opt/conda/lib/python3.10/site-packages (from werkzeug>=1.0.1->tensorboard<2.13,>=2.12->tensorflow->keras-rl2) (2.1.3)\r\n",
      "Requirement already satisfied: pyasn1<0.5.0,>=0.4.6 in /opt/conda/lib/python3.10/site-packages (from pyasn1-modules>=0.2.1->google-auth<3,>=1.6.3->tensorboard<2.13,>=2.12->tensorflow->keras-rl2) (0.4.8)\r\n",
      "Requirement already satisfied: oauthlib>=3.0.0 in /opt/conda/lib/python3.10/site-packages (from requests-oauthlib>=0.7.0->google-auth-oauthlib<1.1,>=0.5->tensorboard<2.13,>=2.12->tensorflow->keras-rl2) (3.2.2)\r\n",
      "Installing collected packages: keras-rl2\r\n",
      "Successfully installed keras-rl2-1.0.5\r\n",
      "Note: you may need to restart the kernel to use updated packages.\n"
     ]
    }
   ],
   "source": [
    "pip install keras-rl2"
   ]
  },
  {
   "cell_type": "code",
   "execution_count": 3,
   "id": "395d6182",
   "metadata": {
    "execution": {
     "iopub.execute_input": "2023-10-13T15:19:30.531413Z",
     "iopub.status.busy": "2023-10-13T15:19:30.530977Z",
     "iopub.status.idle": "2023-10-13T15:19:39.822196Z",
     "shell.execute_reply": "2023-10-13T15:19:39.820998Z"
    },
    "papermill": {
     "duration": 9.301668,
     "end_time": "2023-10-13T15:19:39.824442",
     "exception": false,
     "start_time": "2023-10-13T15:19:30.522774",
     "status": "completed"
    },
    "tags": []
   },
   "outputs": [
    {
     "name": "stdout",
     "output_type": "stream",
     "text": [
      "Name: gym\r\n",
      "Version: 0.24.0\r\n",
      "Summary: Gym: A universal API for reinforcement learning environments\r\n",
      "Home-page: https://www.gymlibrary.ml/\r\n",
      "Author: Gym Community\r\n",
      "Author-email: jkterry@umd.edu\r\n",
      "License: MIT\r\n",
      "Location: /opt/conda/lib/python3.10/site-packages\r\n",
      "Requires: cloudpickle, gym-notices, numpy\r\n",
      "Required-by: \r\n",
      "Note: you may need to restart the kernel to use updated packages.\n"
     ]
    }
   ],
   "source": [
    "pip show gym"
   ]
  },
  {
   "cell_type": "code",
   "execution_count": null,
   "id": "9fe0d0db",
   "metadata": {
    "papermill": {
     "duration": 0.006428,
     "end_time": "2023-10-13T15:19:39.837765",
     "exception": false,
     "start_time": "2023-10-13T15:19:39.831337",
     "status": "completed"
    },
    "tags": []
   },
   "outputs": [],
   "source": []
  },
  {
   "cell_type": "markdown",
   "id": "530fe1a5",
   "metadata": {
    "papermill": {
     "duration": 0.006592,
     "end_time": "2023-10-13T15:19:39.851156",
     "exception": false,
     "start_time": "2023-10-13T15:19:39.844564",
     "status": "completed"
    },
    "tags": []
   },
   "source": []
  },
  {
   "cell_type": "code",
   "execution_count": null,
   "id": "aacbdb6e",
   "metadata": {
    "papermill": {
     "duration": 0.006139,
     "end_time": "2023-10-13T15:19:39.863832",
     "exception": false,
     "start_time": "2023-10-13T15:19:39.857693",
     "status": "completed"
    },
    "tags": []
   },
   "outputs": [],
   "source": []
  },
  {
   "cell_type": "code",
   "execution_count": 4,
   "id": "840ec436",
   "metadata": {
    "execution": {
     "iopub.execute_input": "2023-10-13T15:19:39.879389Z",
     "iopub.status.busy": "2023-10-13T15:19:39.878983Z",
     "iopub.status.idle": "2023-10-13T15:20:01.994972Z",
     "shell.execute_reply": "2023-10-13T15:20:01.993628Z"
    },
    "papermill": {
     "duration": 22.126846,
     "end_time": "2023-10-13T15:20:01.997627",
     "exception": false,
     "start_time": "2023-10-13T15:19:39.870781",
     "status": "completed"
    },
    "tags": []
   },
   "outputs": [
    {
     "name": "stderr",
     "output_type": "stream",
     "text": [
      "Warning: Gym version v0.24.0 has a number of critical issues with `gym.make` such that the `reset` and `step` functions are called before returning the environment. It is recommend to downgrading to v0.23.1 or upgrading to v0.25.1\n"
     ]
    },
    {
     "name": "stdout",
     "output_type": "stream",
     "text": [
      "\u001b[31mERROR: Could not find a version that satisfies the requirement tensorflow==2.3.0 (from versions: 2.8.0rc0, 2.8.0rc1, 2.8.0, 2.8.1, 2.8.2, 2.8.3, 2.8.4, 2.9.0rc0, 2.9.0rc1, 2.9.0rc2, 2.9.0, 2.9.1, 2.9.2, 2.9.3, 2.10.0rc0, 2.10.0rc1, 2.10.0rc2, 2.10.0rc3, 2.10.0, 2.10.1, 2.11.0rc0, 2.11.0rc1, 2.11.0rc2, 2.11.0, 2.11.1, 2.12.0rc0, 2.12.0rc1, 2.12.0, 2.12.1, 2.13.0rc0, 2.13.0rc1, 2.13.0rc2, 2.13.0, 2.13.1, 2.14.0rc0, 2.14.0rc1, 2.14.0)\u001b[0m\u001b[31m\r\n",
      "\u001b[0m\u001b[31mERROR: No matching distribution found for tensorflow==2.3.0\u001b[0m\u001b[31m\r\n",
      "\u001b[0mCollecting pyvirtualdisplay\r\n",
      "  Downloading PyVirtualDisplay-3.0-py3-none-any.whl (15 kB)\r\n",
      "Installing collected packages: pyvirtualdisplay\r\n",
      "Successfully installed pyvirtualdisplay-3.0\r\n"
     ]
    }
   ],
   "source": [
    "import gym\n",
    "import random\n",
    "import time\n",
    "from collections import deque, namedtuple\n",
    "!pip install tensorflow==2.3.0\n",
    "\n",
    "import numpy as np\n",
    "import PIL.Image\n",
    "import tensorflow as tf\n",
    "import utils\n",
    "!pip install pyvirtualdisplay\n",
    "from pyvirtualdisplay import Display\n",
    "from tensorflow.keras import Sequential\n",
    "from tensorflow.keras.layers import Dense, Input\n",
    "from tensorflow.keras.losses import MSE\n",
    "from tensorflow.keras.optimizers import Adam\n",
    "from gym.wrappers.record_video import RecordVideo"
   ]
  },
  {
   "cell_type": "code",
   "execution_count": 5,
   "id": "c24cb909",
   "metadata": {
    "execution": {
     "iopub.execute_input": "2023-10-13T15:20:02.014452Z",
     "iopub.status.busy": "2023-10-13T15:20:02.013237Z",
     "iopub.status.idle": "2023-10-13T15:20:02.032484Z",
     "shell.execute_reply": "2023-10-13T15:20:02.031443Z"
    },
    "papermill": {
     "duration": 0.030092,
     "end_time": "2023-10-13T15:20:02.034850",
     "exception": false,
     "start_time": "2023-10-13T15:20:02.004758",
     "status": "completed"
    },
    "tags": []
   },
   "outputs": [
    {
     "name": "stderr",
     "output_type": "stream",
     "text": [
      "/opt/conda/lib/python3.10/site-packages/gym/envs/registration.py:568: UserWarning: \u001b[33mWARN: The environment CartPole-v0 is out of date. You should consider upgrading to version `v1`.\u001b[0m\n",
      "  logger.warn(\n"
     ]
    }
   ],
   "source": [
    "env = gym.make('CartPole-v0') #Building Environmnet\n",
    "states=env.observation_space.shape[0] #Getting states and actions \n",
    "actions=env.action_space.n"
   ]
  },
  {
   "cell_type": "code",
   "execution_count": 6,
   "id": "66a31863",
   "metadata": {
    "execution": {
     "iopub.execute_input": "2023-10-13T15:20:02.050828Z",
     "iopub.status.busy": "2023-10-13T15:20:02.050197Z",
     "iopub.status.idle": "2023-10-13T15:20:02.055878Z",
     "shell.execute_reply": "2023-10-13T15:20:02.054769Z"
    },
    "papermill": {
     "duration": 0.016218,
     "end_time": "2023-10-13T15:20:02.058015",
     "exception": false,
     "start_time": "2023-10-13T15:20:02.041797",
     "status": "completed"
    },
    "tags": []
   },
   "outputs": [
    {
     "name": "stdout",
     "output_type": "stream",
     "text": [
      "4 2\n"
     ]
    }
   ],
   "source": [
    "print(states,actions)"
   ]
  },
  {
   "cell_type": "code",
   "execution_count": 7,
   "id": "f2b783bc",
   "metadata": {
    "execution": {
     "iopub.execute_input": "2023-10-13T15:20:02.074575Z",
     "iopub.status.busy": "2023-10-13T15:20:02.074186Z",
     "iopub.status.idle": "2023-10-13T15:20:13.911802Z",
     "shell.execute_reply": "2023-10-13T15:20:13.910369Z"
    },
    "papermill": {
     "duration": 11.848822,
     "end_time": "2023-10-13T15:20:13.914312",
     "exception": false,
     "start_time": "2023-10-13T15:20:02.065490",
     "status": "completed"
    },
    "tags": []
   },
   "outputs": [
    {
     "name": "stdout",
     "output_type": "stream",
     "text": [
      "Requirement already satisfied: gym[classic_control] in /opt/conda/lib/python3.10/site-packages (0.24.0)\r\n",
      "Requirement already satisfied: numpy>=1.18.0 in /opt/conda/lib/python3.10/site-packages (from gym[classic_control]) (1.23.5)\r\n",
      "Requirement already satisfied: cloudpickle>=1.2.0 in /opt/conda/lib/python3.10/site-packages (from gym[classic_control]) (2.2.1)\r\n",
      "Requirement already satisfied: gym-notices>=0.0.4 in /opt/conda/lib/python3.10/site-packages (from gym[classic_control]) (0.0.8)\r\n",
      "Collecting pygame==2.1.0 (from gym[classic_control])\r\n",
      "  Downloading pygame-2.1.0-cp310-cp310-manylinux_2_17_x86_64.manylinux2014_x86_64.whl (18.3 MB)\r\n",
      "\u001b[2K     \u001b[90m━━━━━━━━━━━━━━━━━━━━━━━━━━━━━━━━━━━━━━━━\u001b[0m \u001b[32m18.3/18.3 MB\u001b[0m \u001b[31m46.5 MB/s\u001b[0m eta \u001b[36m0:00:00\u001b[0m\r\n",
      "\u001b[?25hInstalling collected packages: pygame\r\n",
      "Successfully installed pygame-2.1.0\r\n",
      "Note: you may need to restart the kernel to use updated packages.\n"
     ]
    }
   ],
   "source": [
    "pip install gym[classic_control]"
   ]
  },
  {
   "cell_type": "code",
   "execution_count": 8,
   "id": "1d7cabfc",
   "metadata": {
    "execution": {
     "iopub.execute_input": "2023-10-13T15:20:13.932078Z",
     "iopub.status.busy": "2023-10-13T15:20:13.931468Z",
     "iopub.status.idle": "2023-10-13T15:20:23.820456Z",
     "shell.execute_reply": "2023-10-13T15:20:23.819218Z"
    },
    "papermill": {
     "duration": 9.900228,
     "end_time": "2023-10-13T15:20:23.822392",
     "exception": false,
     "start_time": "2023-10-13T15:20:13.922164",
     "status": "completed"
    },
    "tags": []
   },
   "outputs": [
    {
     "name": "stdout",
     "output_type": "stream",
     "text": [
      "Requirement already satisfied: pygame in /opt/conda/lib/python3.10/site-packages (2.1.0)\r\n"
     ]
    },
    {
     "data": {
      "text/plain": [
       "<Surface(640x480x32 SW)>"
      ]
     },
     "execution_count": 8,
     "metadata": {},
     "output_type": "execute_result"
    }
   ],
   "source": [
    "!pip install pygame \n",
    "\n",
    "import os\n",
    "os.environ['SDL_VIDEODRIVER']='dummy'\n",
    "import pygame\n",
    "pygame.display.set_mode((640,480))"
   ]
  },
  {
   "cell_type": "code",
   "execution_count": 9,
   "id": "4207bbbd",
   "metadata": {
    "execution": {
     "iopub.execute_input": "2023-10-13T15:20:23.841267Z",
     "iopub.status.busy": "2023-10-13T15:20:23.840859Z",
     "iopub.status.idle": "2023-10-13T15:20:29.022819Z",
     "shell.execute_reply": "2023-10-13T15:20:29.021110Z"
    },
    "papermill": {
     "duration": 5.19476,
     "end_time": "2023-10-13T15:20:29.025429",
     "exception": false,
     "start_time": "2023-10-13T15:20:23.830669",
     "status": "completed"
    },
    "tags": []
   },
   "outputs": [
    {
     "name": "stdout",
     "output_type": "stream",
     "text": [
      "Episode:1 Score:17.0\n",
      "Episode:2 Score:23.0\n",
      "Episode:3 Score:21.0\n",
      "Episode:4 Score:25.0\n",
      "Episode:5 Score:13.0\n",
      "Episode:6 Score:17.0\n",
      "Episode:7 Score:19.0\n",
      "Episode:8 Score:14.0\n",
      "Episode:9 Score:44.0\n",
      "Episode:10 Score:16.0\n"
     ]
    }
   ],
   "source": [
    "s=[]\n",
    "episodes=10\n",
    "\n",
    "env = RecordVideo(env, '/kaggle/working/before.mp4')\n",
    "\n",
    "for episode in range(1,episodes+1):\n",
    "    state=env.reset() #resetting the env\n",
    "    #terminated=False\n",
    "    done=False\n",
    "    score=0\n",
    "    \n",
    "    while not done:\n",
    "        #PIL.Image.fromarray(env.render(mode='rgb_array'))\n",
    "        env.render()\n",
    "        action=random.choice([0,1]) #0 left 1 right ig\n",
    "        n_state,reward,done,info=env.step(action) \n",
    "        score+=reward\n",
    "        s.append(score)\n",
    "    print('Episode:{} Score:{}'.format(episode,score))"
   ]
  },
  {
   "cell_type": "code",
   "execution_count": 10,
   "id": "2ca42227",
   "metadata": {
    "execution": {
     "iopub.execute_input": "2023-10-13T15:20:29.048020Z",
     "iopub.status.busy": "2023-10-13T15:20:29.046747Z",
     "iopub.status.idle": "2023-10-13T15:20:29.052961Z",
     "shell.execute_reply": "2023-10-13T15:20:29.052158Z"
    },
    "papermill": {
     "duration": 0.019536,
     "end_time": "2023-10-13T15:20:29.054707",
     "exception": false,
     "start_time": "2023-10-13T15:20:29.035171",
     "status": "completed"
    },
    "tags": []
   },
   "outputs": [
    {
     "name": "stdout",
     "output_type": "stream",
     "text": [
      "44.0\n"
     ]
    }
   ],
   "source": [
    "print(max(s))"
   ]
  },
  {
   "cell_type": "code",
   "execution_count": 11,
   "id": "fbac461d",
   "metadata": {
    "execution": {
     "iopub.execute_input": "2023-10-13T15:20:29.073693Z",
     "iopub.status.busy": "2023-10-13T15:20:29.073257Z",
     "iopub.status.idle": "2023-10-13T15:20:29.080649Z",
     "shell.execute_reply": "2023-10-13T15:20:29.079373Z"
    },
    "papermill": {
     "duration": 0.019303,
     "end_time": "2023-10-13T15:20:29.082708",
     "exception": false,
     "start_time": "2023-10-13T15:20:29.063405",
     "status": "completed"
    },
    "tags": []
   },
   "outputs": [],
   "source": [
    "import numpy as np\n",
    "from tensorflow.keras.models import Sequential\n",
    "from tensorflow.keras.layers import Dense, Flatten\n",
    "from tensorflow.keras.optimizers.legacy import Adam"
   ]
  },
  {
   "cell_type": "code",
   "execution_count": 12,
   "id": "3cd3061c",
   "metadata": {
    "execution": {
     "iopub.execute_input": "2023-10-13T15:20:29.101837Z",
     "iopub.status.busy": "2023-10-13T15:20:29.101489Z",
     "iopub.status.idle": "2023-10-13T15:20:29.107355Z",
     "shell.execute_reply": "2023-10-13T15:20:29.106241Z"
    },
    "papermill": {
     "duration": 0.018092,
     "end_time": "2023-10-13T15:20:29.109492",
     "exception": false,
     "start_time": "2023-10-13T15:20:29.091400",
     "status": "completed"
    },
    "tags": []
   },
   "outputs": [],
   "source": [
    "def build_model(states , actions):\n",
    "    model = Sequential()\n",
    "    model.add(Flatten(input_shape=(1,states)))\n",
    "    model.add(Dense(24,activation='relu'))\n",
    "    model.add(Dense(24,activation='relu'))\n",
    "    model.add(Dense(actions,activation='linear'))\n",
    "    return model"
   ]
  },
  {
   "cell_type": "code",
   "execution_count": 13,
   "id": "7b88855f",
   "metadata": {
    "execution": {
     "iopub.execute_input": "2023-10-13T15:20:29.128364Z",
     "iopub.status.busy": "2023-10-13T15:20:29.127998Z",
     "iopub.status.idle": "2023-10-13T15:20:29.140168Z",
     "shell.execute_reply": "2023-10-13T15:20:29.139340Z"
    },
    "papermill": {
     "duration": 0.024256,
     "end_time": "2023-10-13T15:20:29.142458",
     "exception": false,
     "start_time": "2023-10-13T15:20:29.118202",
     "status": "completed"
    },
    "tags": []
   },
   "outputs": [],
   "source": [
    "from rl.agents import DQNAgent\n",
    "from rl.policy import BoltzmannQPolicy\n",
    "from rl.memory import SequentialMemory"
   ]
  },
  {
   "cell_type": "code",
   "execution_count": 14,
   "id": "8d1ac951",
   "metadata": {
    "execution": {
     "iopub.execute_input": "2023-10-13T15:20:29.161351Z",
     "iopub.status.busy": "2023-10-13T15:20:29.160973Z",
     "iopub.status.idle": "2023-10-13T15:20:29.275425Z",
     "shell.execute_reply": "2023-10-13T15:20:29.274336Z"
    },
    "papermill": {
     "duration": 0.129527,
     "end_time": "2023-10-13T15:20:29.280897",
     "exception": false,
     "start_time": "2023-10-13T15:20:29.151370",
     "status": "completed"
    },
    "tags": []
   },
   "outputs": [
    {
     "name": "stdout",
     "output_type": "stream",
     "text": [
      "Model: \"sequential\"\n",
      "_________________________________________________________________\n",
      " Layer (type)                Output Shape              Param #   \n",
      "=================================================================\n",
      " flatten (Flatten)           (None, 4)                 0         \n",
      "                                                                 \n",
      " dense (Dense)               (None, 24)                120       \n",
      "                                                                 \n",
      " dense_1 (Dense)             (None, 24)                600       \n",
      "                                                                 \n",
      " dense_2 (Dense)             (None, 2)                 50        \n",
      "                                                                 \n",
      "=================================================================\n",
      "Total params: 770\n",
      "Trainable params: 770\n",
      "Non-trainable params: 0\n",
      "_________________________________________________________________\n"
     ]
    }
   ],
   "source": [
    "model=build_model(states,actions)\n",
    "model.summary()"
   ]
  },
  {
   "cell_type": "code",
   "execution_count": 15,
   "id": "a6919e16",
   "metadata": {
    "execution": {
     "iopub.execute_input": "2023-10-13T15:20:29.301962Z",
     "iopub.status.busy": "2023-10-13T15:20:29.301094Z",
     "iopub.status.idle": "2023-10-13T15:20:29.307041Z",
     "shell.execute_reply": "2023-10-13T15:20:29.306011Z"
    },
    "papermill": {
     "duration": 0.018959,
     "end_time": "2023-10-13T15:20:29.309055",
     "exception": false,
     "start_time": "2023-10-13T15:20:29.290096",
     "status": "completed"
    },
    "tags": []
   },
   "outputs": [],
   "source": [
    "def build_agent(model,actions):\n",
    "    policy = BoltzmannQPolicy()\n",
    "    memory=SequentialMemory(limit=50000 , window_length=1)\n",
    "    dqn = DQNAgent(model=model , memory=memory ,policy=policy , nb_actions=actions , nb_steps_warmup =10 , target_model_update = 1e-2)\n",
    "    return dqn"
   ]
  },
  {
   "cell_type": "code",
   "execution_count": 16,
   "id": "0ed68027",
   "metadata": {
    "execution": {
     "iopub.execute_input": "2023-10-13T15:20:29.329245Z",
     "iopub.status.busy": "2023-10-13T15:20:29.328871Z",
     "iopub.status.idle": "2023-10-13T15:26:24.267604Z",
     "shell.execute_reply": "2023-10-13T15:26:24.265791Z"
    },
    "papermill": {
     "duration": 354.952113,
     "end_time": "2023-10-13T15:26:24.270448",
     "exception": false,
     "start_time": "2023-10-13T15:20:29.318335",
     "status": "completed"
    },
    "tags": []
   },
   "outputs": [
    {
     "name": "stderr",
     "output_type": "stream",
     "text": [
      "/opt/conda/lib/python3.10/site-packages/keras/optimizers/legacy/adam.py:117: UserWarning: The `lr` argument is deprecated, use `learning_rate` instead.\n",
      "  super().__init__(name, **kwargs)\n"
     ]
    },
    {
     "name": "stdout",
     "output_type": "stream",
     "text": [
      "Training for 50000 steps ...\n",
      "Interval 1 (0 steps performed)\n",
      "    1/10000 [..............................] - ETA: 13:28 - reward: 1.0000"
     ]
    },
    {
     "name": "stderr",
     "output_type": "stream",
     "text": [
      "/opt/conda/lib/python3.10/site-packages/keras/engine/training_v1.py:2359: UserWarning: `Model.state_updates` will be removed in a future version. This property should not be used in TensorFlow 2.0, as `updates` are applied automatically.\n",
      "  updates=self.state_updates,\n",
      "/opt/conda/lib/python3.10/site-packages/rl/memory.py:37: UserWarning: Not enough entries to sample without replacement. Consider increasing your warm-up phase to avoid oversampling!\n",
      "  warnings.warn('Not enough entries to sample without replacement. Consider increasing your warm-up phase to avoid oversampling!')\n",
      "/opt/conda/lib/python3.10/site-packages/rl/memory.py:38: DeprecationWarning: This function is deprecated. Please call randint(1, 10 + 1) instead\n",
      "  batch_idxs = np.random.random_integers(low, high - 1, size=size)\n"
     ]
    },
    {
     "name": "stdout",
     "output_type": "stream",
     "text": [
      "   34/10000 [..............................] - ETA: 3:37 - reward: 1.0000"
     ]
    },
    {
     "name": "stderr",
     "output_type": "stream",
     "text": [
      "/opt/conda/lib/python3.10/site-packages/rl/memory.py:38: DeprecationWarning: This function is deprecated. Please call randint(1, 11 + 1) instead\n",
      "  batch_idxs = np.random.random_integers(low, high - 1, size=size)\n",
      "/opt/conda/lib/python3.10/site-packages/rl/memory.py:38: DeprecationWarning: This function is deprecated. Please call randint(1, 12 + 1) instead\n",
      "  batch_idxs = np.random.random_integers(low, high - 1, size=size)\n",
      "/opt/conda/lib/python3.10/site-packages/rl/memory.py:38: DeprecationWarning: This function is deprecated. Please call randint(1, 13 + 1) instead\n",
      "  batch_idxs = np.random.random_integers(low, high - 1, size=size)\n",
      "/opt/conda/lib/python3.10/site-packages/rl/memory.py:38: DeprecationWarning: This function is deprecated. Please call randint(1, 14 + 1) instead\n",
      "  batch_idxs = np.random.random_integers(low, high - 1, size=size)\n",
      "/opt/conda/lib/python3.10/site-packages/rl/memory.py:38: DeprecationWarning: This function is deprecated. Please call randint(1, 15 + 1) instead\n",
      "  batch_idxs = np.random.random_integers(low, high - 1, size=size)\n",
      "/opt/conda/lib/python3.10/site-packages/rl/memory.py:38: DeprecationWarning: This function is deprecated. Please call randint(1, 16 + 1) instead\n",
      "  batch_idxs = np.random.random_integers(low, high - 1, size=size)\n",
      "/opt/conda/lib/python3.10/site-packages/rl/memory.py:38: DeprecationWarning: This function is deprecated. Please call randint(1, 17 + 1) instead\n",
      "  batch_idxs = np.random.random_integers(low, high - 1, size=size)\n",
      "/opt/conda/lib/python3.10/site-packages/rl/memory.py:38: DeprecationWarning: This function is deprecated. Please call randint(1, 18 + 1) instead\n",
      "  batch_idxs = np.random.random_integers(low, high - 1, size=size)\n",
      "/opt/conda/lib/python3.10/site-packages/rl/memory.py:38: DeprecationWarning: This function is deprecated. Please call randint(1, 19 + 1) instead\n",
      "  batch_idxs = np.random.random_integers(low, high - 1, size=size)\n",
      "/opt/conda/lib/python3.10/site-packages/rl/memory.py:38: DeprecationWarning: This function is deprecated. Please call randint(1, 20 + 1) instead\n",
      "  batch_idxs = np.random.random_integers(low, high - 1, size=size)\n",
      "/opt/conda/lib/python3.10/site-packages/rl/memory.py:38: DeprecationWarning: This function is deprecated. Please call randint(1, 21 + 1) instead\n",
      "  batch_idxs = np.random.random_integers(low, high - 1, size=size)\n",
      "/opt/conda/lib/python3.10/site-packages/rl/memory.py:38: DeprecationWarning: This function is deprecated. Please call randint(1, 22 + 1) instead\n",
      "  batch_idxs = np.random.random_integers(low, high - 1, size=size)\n",
      "/opt/conda/lib/python3.10/site-packages/rl/memory.py:38: DeprecationWarning: This function is deprecated. Please call randint(1, 23 + 1) instead\n",
      "  batch_idxs = np.random.random_integers(low, high - 1, size=size)\n",
      "/opt/conda/lib/python3.10/site-packages/rl/memory.py:38: DeprecationWarning: This function is deprecated. Please call randint(1, 24 + 1) instead\n",
      "  batch_idxs = np.random.random_integers(low, high - 1, size=size)\n",
      "/opt/conda/lib/python3.10/site-packages/rl/memory.py:38: DeprecationWarning: This function is deprecated. Please call randint(1, 25 + 1) instead\n",
      "  batch_idxs = np.random.random_integers(low, high - 1, size=size)\n",
      "/opt/conda/lib/python3.10/site-packages/rl/memory.py:38: DeprecationWarning: This function is deprecated. Please call randint(1, 26 + 1) instead\n",
      "  batch_idxs = np.random.random_integers(low, high - 1, size=size)\n",
      "/opt/conda/lib/python3.10/site-packages/rl/memory.py:38: DeprecationWarning: This function is deprecated. Please call randint(1, 27 + 1) instead\n",
      "  batch_idxs = np.random.random_integers(low, high - 1, size=size)\n",
      "/opt/conda/lib/python3.10/site-packages/rl/memory.py:38: DeprecationWarning: This function is deprecated. Please call randint(1, 28 + 1) instead\n",
      "  batch_idxs = np.random.random_integers(low, high - 1, size=size)\n",
      "/opt/conda/lib/python3.10/site-packages/rl/memory.py:38: DeprecationWarning: This function is deprecated. Please call randint(1, 29 + 1) instead\n",
      "  batch_idxs = np.random.random_integers(low, high - 1, size=size)\n",
      "/opt/conda/lib/python3.10/site-packages/rl/memory.py:38: DeprecationWarning: This function is deprecated. Please call randint(1, 30 + 1) instead\n",
      "  batch_idxs = np.random.random_integers(low, high - 1, size=size)\n",
      "/opt/conda/lib/python3.10/site-packages/rl/memory.py:38: DeprecationWarning: This function is deprecated. Please call randint(1, 31 + 1) instead\n",
      "  batch_idxs = np.random.random_integers(low, high - 1, size=size)\n"
     ]
    },
    {
     "name": "stdout",
     "output_type": "stream",
     "text": [
      "10000/10000 [==============================] - 68s 7ms/step - reward: 1.0000\n",
      "103 episodes - episode_reward: 97.000 [9.000, 200.000] - loss: 3.373 - mae: 19.068 - mean_q: 38.535\n",
      "\n",
      "Interval 2 (10000 steps performed)\n",
      "10000/10000 [==============================] - 70s 7ms/step - reward: 1.0000\n",
      "50 episodes - episode_reward: 198.540 [184.000, 200.000] - loss: 7.531 - mae: 40.271 - mean_q: 81.226\n",
      "\n",
      "Interval 3 (20000 steps performed)\n",
      "10000/10000 [==============================] - 70s 7ms/step - reward: 1.0000\n",
      "50 episodes - episode_reward: 199.760 [195.000, 200.000] - loss: 6.363 - mae: 43.414 - mean_q: 87.348\n",
      "\n",
      "Interval 4 (30000 steps performed)\n",
      "10000/10000 [==============================] - 72s 7ms/step - reward: 1.0000\n",
      "50 episodes - episode_reward: 200.000 [200.000, 200.000] - loss: 6.722 - mae: 43.232 - mean_q: 86.915\n",
      "\n",
      "Interval 5 (40000 steps performed)\n",
      "10000/10000 [==============================] - 73s 7ms/step - reward: 1.0000\n",
      "done, took 354.352 seconds\n"
     ]
    },
    {
     "data": {
      "text/plain": [
       "<keras.callbacks.History at 0x7bf8cca599f0>"
      ]
     },
     "execution_count": 16,
     "metadata": {},
     "output_type": "execute_result"
    }
   ],
   "source": [
    "dqn=build_agent(model,actions)\n",
    "dqn.compile(Adam(lr=1e-3),metrics=['mae'])\n",
    "dqn.fit(env,nb_steps=50000,visualize=False , verbose=1)"
   ]
  },
  {
   "cell_type": "code",
   "execution_count": 17,
   "id": "f4ab7cb4",
   "metadata": {
    "execution": {
     "iopub.execute_input": "2023-10-13T15:26:25.050978Z",
     "iopub.status.busy": "2023-10-13T15:26:25.050551Z",
     "iopub.status.idle": "2023-10-13T15:26:39.474799Z",
     "shell.execute_reply": "2023-10-13T15:26:39.473481Z"
    },
    "papermill": {
     "duration": 14.780876,
     "end_time": "2023-10-13T15:26:39.477092",
     "exception": false,
     "start_time": "2023-10-13T15:26:24.696216",
     "status": "completed"
    },
    "tags": []
   },
   "outputs": [
    {
     "name": "stdout",
     "output_type": "stream",
     "text": [
      "Testing for 100 episodes ...\n",
      "Episode 1: reward: 200.000, steps: 200\n",
      "Episode 2: reward: 200.000, steps: 200\n",
      "Episode 3: reward: 200.000, steps: 200\n",
      "Episode 4: reward: 200.000, steps: 200\n",
      "Episode 5: reward: 200.000, steps: 200\n",
      "Episode 6: reward: 200.000, steps: 200\n",
      "Episode 7: reward: 200.000, steps: 200\n",
      "Episode 8: reward: 200.000, steps: 200\n",
      "Episode 9: reward: 200.000, steps: 200\n",
      "Episode 10: reward: 200.000, steps: 200\n",
      "Episode 11: reward: 200.000, steps: 200\n",
      "Episode 12: reward: 200.000, steps: 200\n",
      "Episode 13: reward: 200.000, steps: 200\n",
      "Episode 14: reward: 200.000, steps: 200\n",
      "Episode 15: reward: 200.000, steps: 200\n",
      "Episode 16: reward: 200.000, steps: 200\n",
      "Episode 17: reward: 200.000, steps: 200\n",
      "Episode 18: reward: 200.000, steps: 200\n",
      "Episode 19: reward: 200.000, steps: 200\n",
      "Episode 20: reward: 200.000, steps: 200\n",
      "Episode 21: reward: 200.000, steps: 200\n",
      "Episode 22: reward: 200.000, steps: 200\n",
      "Episode 23: reward: 200.000, steps: 200\n",
      "Episode 24: reward: 200.000, steps: 200\n",
      "Episode 25: reward: 200.000, steps: 200\n",
      "Episode 26: reward: 200.000, steps: 200\n",
      "Episode 27: reward: 200.000, steps: 200\n",
      "Episode 28: reward: 200.000, steps: 200\n",
      "Episode 29: reward: 200.000, steps: 200\n",
      "Episode 30: reward: 200.000, steps: 200\n",
      "Episode 31: reward: 200.000, steps: 200\n",
      "Episode 32: reward: 200.000, steps: 200\n",
      "Episode 33: reward: 200.000, steps: 200\n",
      "Episode 34: reward: 200.000, steps: 200\n",
      "Episode 35: reward: 200.000, steps: 200\n",
      "Episode 36: reward: 200.000, steps: 200\n",
      "Episode 37: reward: 200.000, steps: 200\n",
      "Episode 38: reward: 200.000, steps: 200\n",
      "Episode 39: reward: 200.000, steps: 200\n",
      "Episode 40: reward: 200.000, steps: 200\n",
      "Episode 41: reward: 200.000, steps: 200\n",
      "Episode 42: reward: 200.000, steps: 200\n",
      "Episode 43: reward: 200.000, steps: 200\n",
      "Episode 44: reward: 200.000, steps: 200\n",
      "Episode 45: reward: 200.000, steps: 200\n",
      "Episode 46: reward: 200.000, steps: 200\n",
      "Episode 47: reward: 200.000, steps: 200\n",
      "Episode 48: reward: 200.000, steps: 200\n",
      "Episode 49: reward: 200.000, steps: 200\n",
      "Episode 50: reward: 200.000, steps: 200\n",
      "Episode 51: reward: 200.000, steps: 200\n",
      "Episode 52: reward: 200.000, steps: 200\n",
      "Episode 53: reward: 200.000, steps: 200\n",
      "Episode 54: reward: 200.000, steps: 200\n",
      "Episode 55: reward: 200.000, steps: 200\n",
      "Episode 56: reward: 200.000, steps: 200\n",
      "Episode 57: reward: 200.000, steps: 200\n",
      "Episode 58: reward: 200.000, steps: 200\n",
      "Episode 59: reward: 200.000, steps: 200\n",
      "Episode 60: reward: 200.000, steps: 200\n",
      "Episode 61: reward: 200.000, steps: 200\n",
      "Episode 62: reward: 200.000, steps: 200\n",
      "Episode 63: reward: 200.000, steps: 200\n",
      "Episode 64: reward: 200.000, steps: 200\n",
      "Episode 65: reward: 200.000, steps: 200\n",
      "Episode 66: reward: 200.000, steps: 200\n",
      "Episode 67: reward: 200.000, steps: 200\n",
      "Episode 68: reward: 200.000, steps: 200\n",
      "Episode 69: reward: 200.000, steps: 200\n",
      "Episode 70: reward: 200.000, steps: 200\n",
      "Episode 71: reward: 200.000, steps: 200\n",
      "Episode 72: reward: 200.000, steps: 200\n",
      "Episode 73: reward: 200.000, steps: 200\n",
      "Episode 74: reward: 200.000, steps: 200\n",
      "Episode 75: reward: 200.000, steps: 200\n",
      "Episode 76: reward: 200.000, steps: 200\n",
      "Episode 77: reward: 200.000, steps: 200\n",
      "Episode 78: reward: 200.000, steps: 200\n",
      "Episode 79: reward: 200.000, steps: 200\n",
      "Episode 80: reward: 200.000, steps: 200\n",
      "Episode 81: reward: 200.000, steps: 200\n",
      "Episode 82: reward: 200.000, steps: 200\n",
      "Episode 83: reward: 200.000, steps: 200\n",
      "Episode 84: reward: 200.000, steps: 200\n",
      "Episode 85: reward: 200.000, steps: 200\n",
      "Episode 86: reward: 200.000, steps: 200\n",
      "Episode 87: reward: 200.000, steps: 200\n",
      "Episode 88: reward: 200.000, steps: 200\n",
      "Episode 89: reward: 200.000, steps: 200\n",
      "Episode 90: reward: 200.000, steps: 200\n",
      "Episode 91: reward: 200.000, steps: 200\n",
      "Episode 92: reward: 200.000, steps: 200\n",
      "Episode 93: reward: 200.000, steps: 200\n",
      "Episode 94: reward: 200.000, steps: 200\n",
      "Episode 95: reward: 200.000, steps: 200\n",
      "Episode 96: reward: 200.000, steps: 200\n",
      "Episode 97: reward: 200.000, steps: 200\n",
      "Episode 98: reward: 200.000, steps: 200\n",
      "Episode 99: reward: 200.000, steps: 200\n",
      "Episode 100: reward: 200.000, steps: 200\n",
      "200.0\n"
     ]
    }
   ],
   "source": [
    "scores=dqn.test(env,nb_episodes=100,visualize=False)\n",
    "print(np.mean(scores.history['episode_reward']))"
   ]
  },
  {
   "cell_type": "code",
   "execution_count": 18,
   "id": "8433b942",
   "metadata": {
    "execution": {
     "iopub.execute_input": "2023-10-13T15:26:40.181483Z",
     "iopub.status.busy": "2023-10-13T15:26:40.180141Z",
     "iopub.status.idle": "2023-10-13T15:27:00.646089Z",
     "shell.execute_reply": "2023-10-13T15:27:00.644398Z"
    },
    "papermill": {
     "duration": 20.822008,
     "end_time": "2023-10-13T15:27:00.648181",
     "exception": false,
     "start_time": "2023-10-13T15:26:39.826173",
     "status": "completed"
    },
    "tags": []
   },
   "outputs": [
    {
     "name": "stderr",
     "output_type": "stream",
     "text": [
      "/opt/conda/lib/python3.10/site-packages/gym/wrappers/record_video.py:75: UserWarning: \u001b[33mWARN: Overwriting existing videos at /kaggle/working folder (try specifying a different `video_folder` for the `RecordVideo` wrapper if this is not desired)\u001b[0m\n",
      "  logger.warn(\n"
     ]
    },
    {
     "name": "stdout",
     "output_type": "stream",
     "text": [
      "Testing for 5 episodes ...\n",
      "Episode 1: reward: 200.000, steps: 200\n",
      "Episode 2: reward: 200.000, steps: 200\n",
      "Episode 3: reward: 200.000, steps: 200\n",
      "Episode 4: reward: 200.000, steps: 200\n",
      "Episode 5: reward: 200.000, steps: 200\n"
     ]
    }
   ],
   "source": [
    "\n",
    "env = RecordVideo(env, '')\n",
    "_=dqn.test(env,nb_episodes=5,visualize=True)"
   ]
  },
  {
   "cell_type": "code",
   "execution_count": null,
   "id": "ff724688",
   "metadata": {
    "papermill": {
     "duration": 0.353515,
     "end_time": "2023-10-13T15:27:01.418751",
     "exception": false,
     "start_time": "2023-10-13T15:27:01.065236",
     "status": "completed"
    },
    "tags": []
   },
   "outputs": [],
   "source": []
  },
  {
   "cell_type": "code",
   "execution_count": null,
   "id": "2c868a92",
   "metadata": {
    "papermill": {
     "duration": 0.35095,
     "end_time": "2023-10-13T15:27:02.125095",
     "exception": false,
     "start_time": "2023-10-13T15:27:01.774145",
     "status": "completed"
    },
    "tags": []
   },
   "outputs": [],
   "source": []
  }
 ],
 "metadata": {
  "kernelspec": {
   "display_name": "Python 3",
   "language": "python",
   "name": "python3"
  },
  "language_info": {
   "codemirror_mode": {
    "name": "ipython",
    "version": 3
   },
   "file_extension": ".py",
   "mimetype": "text/x-python",
   "name": "python",
   "nbconvert_exporter": "python",
   "pygments_lexer": "ipython3",
   "version": "3.10.12"
  },
  "papermill": {
   "default_parameters": {},
   "duration": 501.608583,
   "end_time": "2023-10-13T15:27:05.269484",
   "environment_variables": {},
   "exception": null,
   "input_path": "__notebook__.ipynb",
   "output_path": "__notebook__.ipynb",
   "parameters": {},
   "start_time": "2023-10-13T15:18:43.660901",
   "version": "2.4.0"
  }
 },
 "nbformat": 4,
 "nbformat_minor": 5
}
